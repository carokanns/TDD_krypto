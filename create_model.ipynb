{
 "cells": [
  {
   "attachments": {},
   "cell_type": "markdown",
   "metadata": {},
   "source": [
    "# Skapa en modell \n",
    "som ger underlag för att köpa eller sälja kryptovaluta"
   ]
  },
  {
   "cell_type": "code",
   "execution_count": 1,
   "metadata": {},
   "outputs": [],
   "source": [
    "import pandas as pd\n",
    "import numpy as np\n",
    "# import binance\n",
    "import momentum as mom"
   ]
  },
  {
   "attachments": {},
   "cell_type": "markdown",
   "metadata": {},
   "source": [
    "## Skapa train/test data från momentum.py"
   ]
  },
  {
   "cell_type": "code",
   "execution_count": 2,
   "metadata": {},
   "outputs": [
    {
     "name": "stdout",
     "output_type": "stream",
     "text": [
      "trading logic start\n",
      "fibonacci_strategy start\n",
      "start_a_new_fibonacci 2023-02-27 20:21:10.874000\n",
      "stop_loss gick inte att fylla i\n",
      "entry gick inte att fylla i\n",
      "trading logic start\n",
      "fibonacci_strategy start\n",
      "return hold and in_position = False row = [1632.17 1608.0 1665.22 1616.0 475515.8268 nan nan 'hold' nan nan nan\n",
      " 'hold']\n",
      "(2, 16)\n",
      "trading logic start\n",
      "fibonacci_strategy start\n",
      "return hold and in_position = False row = [1632.11 1608.0 1665.22 1616.37 475521.5834 nan nan 'hold' nan nan nan\n",
      " 'hold' nan nan nan nan nan]\n",
      "(3, 17)\n",
      "trading logic start\n",
      "fibonacci_strategy start\n",
      "return hold and in_position = False row = [1632.11 1608.0 1665.22 1616.4 475522.2295 nan nan 'hold' nan nan nan\n",
      " 'hold' nan nan nan nan nan]\n",
      "(4, 17)\n",
      "trading logic start\n",
      "fibonacci_strategy start\n",
      "return hold and in_position = False row = [1632.1 1608.0 1665.22 1616.39 475522.2385 1616.232 nan 'hold' nan nan nan\n",
      " 'hold' nan nan nan nan nan]\n",
      "(5, 17)\n",
      "trading logic start\n",
      "fibonacci_strategy start\n",
      "return hold and in_position = False row = [1632.1 1608.0 1665.22 1616.39 475526.0168 1616.31 nan 'hold' nan nan nan\n",
      " 'hold' nan nan nan nan nan]\n",
      "(6, 17)\n",
      "trading logic start\n",
      "fibonacci_strategy start\n",
      "return hold and in_position = False row = [1632.1 1608.0 1665.22 1616.39 475526.0168 1616.3880000000001 nan 'hold'\n",
      " nan nan nan 'hold' nan nan nan nan nan]\n",
      "(7, 17)\n",
      "trading logic start\n",
      "fibonacci_strategy start\n",
      "return hold and in_position = False row = [1632.11 1608.0 1665.22 1616.39 475524.0068 1616.3920000000003 nan 'hold'\n",
      " nan nan nan 'hold' nan nan nan nan nan]\n",
      "(8, 17)\n",
      "trading logic start\n",
      "fibonacci_strategy start\n",
      "return hold and in_position = False row = [1632.11 1608.0 1665.22 1616.59 475539.2087 1616.43 nan 'hold' nan nan nan\n",
      " 'hold' nan nan nan nan nan]\n",
      "(9, 17)\n",
      "trading logic start\n",
      "fibonacci_strategy start\n",
      "return hold and in_position = False row = [1632.11 1608.0 1665.22 1616.67 475533.7026 1616.486 nan 'hold' nan nan\n",
      " nan 'hold' nan nan nan nan nan]\n",
      "(10, 17)\n",
      "trading logic start\n",
      "fibonacci_strategy start\n",
      "return hold and in_position = False row = [1632.16 1608.0 1665.22 1616.67 475520.1532 1616.542 nan 'hold' nan nan\n",
      " nan 'hold' nan nan nan nan nan]\n",
      "(11, 17)\n",
      "trading logic start\n",
      "fibonacci_strategy start\n",
      "return hold and in_position = False row = [1632.61 1608.0 1665.22 1616.8 475524.1151 1616.624 nan 'hold' nan nan nan\n",
      " 'hold' nan nan nan nan nan]\n",
      "(12, 17)\n",
      "trading logic start\n",
      "fibonacci_strategy start\n",
      "return hold and in_position = False row = [1632.6 1608.0 1665.22 1616.93 475522.6058 1616.732 nan 'hold' nan nan nan\n",
      " 'hold' nan nan nan nan nan]\n",
      "(13, 17)\n",
      "trading logic start\n",
      "fibonacci_strategy start\n",
      "return hold and in_position = False row = [1632.61 1608.0 1665.22 1616.93 475521.1058 1616.8 nan 'hold' nan nan nan\n",
      " 'hold' nan nan nan nan nan]\n",
      "(14, 17)\n",
      "trading logic start\n",
      "fibonacci_strategy start\n",
      "return hold and in_position = False row = [1632.61 1608.0 1665.22 1616.93 475520.0229 1616.852 nan 'hold' nan nan\n",
      " nan 'hold' nan nan nan nan nan]\n",
      "(15, 17)\n",
      "trading logic start\n",
      "fibonacci_strategy start\n",
      "return hold and in_position = False row = [1632.61 1608.0 1665.22 1616.93 475520.0229 1616.904 nan 'hold' nan nan\n",
      " nan 'hold' nan nan nan nan nan]\n",
      "(16, 17)\n",
      "trading logic start\n",
      "fibonacci_strategy start\n",
      "return hold and in_position = False row = [1632.61 1608.0 1665.22 1616.86 475524.0082 1616.916 nan 'hold' nan nan\n",
      " nan 'hold' nan nan nan nan nan]\n",
      "(17, 17)\n",
      "trading logic start\n",
      "fibonacci_strategy start\n",
      "return hold and in_position = False row = [1632.6 1608.0 1665.22 1616.86 475523.9905 1616.902 nan 'hold' nan nan nan\n",
      " 'hold' nan nan nan nan nan]\n",
      "(18, 17)\n",
      "trading logic start\n",
      "fibonacci_strategy start\n",
      "return hold and in_position = False row = [1632.6 1608.0 1665.22 1616.86 475523.9905 1616.888 nan 'hold' nan nan nan\n",
      " 'hold' nan nan nan nan nan]\n",
      "(19, 17)\n",
      "trading logic start\n",
      "fibonacci_strategy start\n",
      "return hold and in_position = False row = [1632.52 1608.0 1665.22 1616.86 475512.3782 1616.874 1616.611 'hold' nan\n",
      " nan nan 'hold' nan nan nan nan nan]\n",
      "(20, 17)\n"
     ]
    }
   ],
   "source": [
    "### Kör denna kod för att skapa en dataframe med train/test data ###\n",
    "###               Gör interupt när tillräckligt finns            ###\n",
    "# set timer\n",
    "import time\n",
    " \n",
    "start_time = time.time()\n",
    "max_time = 60    # *10      # 10 minutes\n",
    "mom.start(max_time)\n",
    "\n",
    "duration = time.time() - start_time\n",
    "# format duration to minutes and seconds\n",
    "duration = divmod(duration, 60)\n",
    "str_duration = str(duration[0]) + ' minutes and ' + str(int(duration[1])) + ' seconds'\n",
    "print('Funktionen har kört',str_duration )"
   ]
  },
  {
   "cell_type": "code",
   "execution_count": null,
   "metadata": {},
   "outputs": [],
   "source": [
    "\n",
    "print(mom.df.tail(10))\n",
    "mom.df.to_csv('data.csv')\n",
    "print(mom.df.shape)"
   ]
  },
  {
   "cell_type": "code",
   "execution_count": null,
   "metadata": {},
   "outputs": [],
   "source": [
    "mom.df"
   ]
  },
  {
   "cell_type": "code",
   "execution_count": null,
   "metadata": {},
   "outputs": [],
   "source": [
    "# use_features = mom.df.columns.tolist()\n",
    "\n",
    "# # write to file\n",
    "# with open('use_features.txt', 'w') as f:\n",
    "#     for item in use_features:\n",
    "#         f.write(\"%s \" % item)\n",
    "# use_features"
   ]
  },
  {
   "attachments": {},
   "cell_type": "markdown",
   "metadata": {},
   "source": [
    "## Skapa train/test data från get_historical_klines() i binance.Client"
   ]
  },
  {
   "cell_type": "code",
   "execution_count": null,
   "metadata": {},
   "outputs": [],
   "source": [
    "import pandas as pd\n",
    "import numpy as np\n",
    "import binance"
   ]
  },
  {
   "cell_type": "code",
   "execution_count": null,
   "metadata": {},
   "outputs": [],
   "source": [
    "client = binance.Client()\n",
    "r = client.get_historical_klines('ETHBTC', client.KLINE_INTERVAL_1MINUTE, '1-Jan-2023', '20-Jan-2023')\n",
    "df = pd.DataFrame(r,columns=['datum', 'open','low','high','close','volume','close_time','quote_asset_volume','number_of_trades','taker_buy_base_asset_volume','taker_buy_quote_asset_volume','ignore'])\n",
    "df = df[['datum','open','high','low','close','volume']]\n",
    "# OHLCV values (Open time, Open, High, Low, Close, Volume, Close time, Quote asset volume, \n",
    "# Number of trades, Taker buy base asset volume, Taker buy quote asset volume, Ignore)\n",
    "df.datum = pd.to_datetime(df.datum, unit='ms')\n",
    "df.set_index('datum', inplace=True)\n",
    "\n",
    "# set all columns numeric\n",
    "df = df.apply(pd.to_numeric, errors='coerce')"
   ]
  },
  {
   "cell_type": "code",
   "execution_count": null,
   "metadata": {},
   "outputs": [],
   "source": [
    "print(df.info())\n",
    "print(df.shape)\n",
    "print(df.columns)"
   ]
  },
  {
   "attachments": {},
   "cell_type": "markdown",
   "metadata": {},
   "source": [
    "Prepare data for training and testing"
   ]
  },
  {
   "cell_type": "code",
   "execution_count": null,
   "metadata": {},
   "outputs": [],
   "source": [
    "# read use_features.txt file\n",
    "with open('use_features.txt', 'r') as f:\n",
    "    use_features = f.read().split() \n",
    "    \n",
    "# set all use_features to np.nan\n",
    "for feature in use_features:\n",
    "    if feature not in df.columns:\n",
    "        df[feature] = np.nan\n",
    "\n",
    "# df.pris = df.close\n",
    "df['y_1'] = False\n",
    "df['y_2'] = False\n",
    "df['y_1'] = (df.close.shift(-1) > df.close).astype(int) # går close upp eller ner nästa minut?\n",
    "df['y_2'] = (df.close.shift(-2) > df.close).astype(int) # går close upp eller ner om 2 minuter?\n",
    "# df[use_features]\n",
    "\n",
    "df"
   ]
  },
  {
   "cell_type": "code",
   "execution_count": null,
   "metadata": {},
   "outputs": [],
   "source": [
    "df.y_2.value_counts()"
   ]
  },
  {
   "cell_type": "code",
   "execution_count": null,
   "metadata": {},
   "outputs": [],
   "source": [
    "mom.df = df[use_features+['y_1','y_2']].copy()\n",
    "mom.df.info()"
   ]
  },
  {
   "cell_type": "code",
   "execution_count": null,
   "metadata": {},
   "outputs": [],
   "source": [
    "mom.trading_logic()\n",
    "\n",
    "print(mom.df.info())\n",
    "mom.df.tail(10)"
   ]
  },
  {
   "cell_type": "code",
   "execution_count": null,
   "metadata": {},
   "outputs": [],
   "source": [
    "print(mom.df.m_strategy.value_counts())\n",
    "print(mom.df.b_strategy.value_counts())\n",
    "print(mom.df.f_strategy.value_counts())\n"
   ]
  },
  {
   "attachments": {},
   "cell_type": "markdown",
   "metadata": {},
   "source": [
    "RandomForrestClassifier"
   ]
  },
  {
   "cell_type": "code",
   "execution_count": null,
   "metadata": {},
   "outputs": [],
   "source": [
    "from sklearn.ensemble import RandomForestClassifier\n"
   ]
  },
  {
   "cell_type": "code",
   "execution_count": null,
   "metadata": {},
   "outputs": [],
   "source": [
    "# select the 20% last rows for test\n",
    "test = mom.df.iloc[-int(mom.df.shape[0]*0.2):].copy()\n",
    "train = mom.df[~mom.df.index.isin(test.index)].copy()\n",
    "test = test.dropna().copy()\n",
    "train= train.dropna().copy()\n",
    "\n",
    "# set y_test to 1 if y_1 > pris else 0\n",
    "y_test = pd.Series(np.where(test['y_1'] > test['pris'], 1, 0))\n",
    "y_train = pd.Series(np.where(train['y_1'] > train['pris'], 1, 0))\n",
    "X_test = test[use_features].copy()\n",
    "X_train= train[use_features].copy()\n",
    "\n",
    "# replace 'hold' with 0, 'buy' with 1 and 'sell' with -1\n",
    "X_train.replace({'hold':0.0, 'buy':1.0, 'sell':-1.0}, inplace=True)\n",
    "X_test.replace({'hold':0.0, 'buy':1.0, 'sell':-1.0}, inplace=True)"
   ]
  },
  {
   "cell_type": "code",
   "execution_count": null,
   "metadata": {},
   "outputs": [],
   "source": [
    "print(X_test.shape, y_test.shape)\n",
    "print(X_train.shape, y_train.shape)"
   ]
  },
  {
   "cell_type": "code",
   "execution_count": null,
   "metadata": {},
   "outputs": [],
   "source": [
    "print(np.array(X_test.pris))\n",
    "print(np.array(y_test))"
   ]
  },
  {
   "cell_type": "code",
   "execution_count": null,
   "metadata": {},
   "outputs": [],
   "source": [
    "# create model\n",
    "rfc = RandomForestClassifier(n_estimators=1000, max_depth=12, random_state=0, n_jobs=-1)\n",
    "rfc.fit(X_train, y_train)\n",
    "y_pred = rfc.predict(X_test)\n",
    "y_train_pred = rfc.predict(X_train)\n",
    "\n",
    "from sklearn.metrics import accuracy_score, confusion_matrix, roc_auc_score\n",
    "print(confusion_matrix(y_test, y_pred))\n",
    "print(accuracy_score(y_test, y_pred))\n",
    "print(roc_auc_score(y_test, y_pred))\n"
   ]
  },
  {
   "cell_type": "code",
   "execution_count": null,
   "metadata": {},
   "outputs": [],
   "source": [
    "\n",
    "print(confusion_matrix(y_train, y_train_pred))\n",
    "print(accuracy_score(y_train, y_train_pred))\n",
    "print(roc_auc_score(y_train, y_train_pred))"
   ]
  },
  {
   "cell_type": "code",
   "execution_count": null,
   "metadata": {},
   "outputs": [],
   "source": [
    "y_train.value_counts()"
   ]
  }
 ],
 "metadata": {
  "kernelspec": {
   "display_name": "base",
   "language": "python",
   "name": "python3"
  },
  "language_info": {
   "codemirror_mode": {
    "name": "ipython",
    "version": 3
   },
   "file_extension": ".py",
   "mimetype": "text/x-python",
   "name": "python",
   "nbconvert_exporter": "python",
   "pygments_lexer": "ipython3",
   "version": "3.9.13"
  },
  "orig_nbformat": 4,
  "vscode": {
   "interpreter": {
    "hash": "3d733caf4ffc39d0fbd9a2ba54ef4b7d515956d8048931f8241efe3827fb2d1f"
   }
  }
 },
 "nbformat": 4,
 "nbformat_minor": 2
}
