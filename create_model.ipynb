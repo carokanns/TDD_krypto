{
 "cells": [
  {
   "attachments": {},
   "cell_type": "markdown",
   "metadata": {},
   "source": [
    "# Skapa en modell \n",
    "som ger underlag för att köpa eller sälja kryptovaluta"
   ]
  },
  {
   "cell_type": "code",
   "execution_count": 1,
   "metadata": {},
   "outputs": [],
   "source": [
    "import pandas as pd\n",
    "import numpy as np\n",
    "import momentum as mom"
   ]
  },
  {
   "attachments": {},
   "cell_type": "markdown",
   "metadata": {},
   "source": [
    "## Skapa train/test data"
   ]
  },
  {
   "cell_type": "code",
   "execution_count": 2,
   "metadata": {},
   "outputs": [
    {
     "name": "stdout",
     "output_type": "stream",
     "text": [
      "starting trading logic\n",
      "starting trading logic\n",
      "[[24689.06      nan      nan      nan]]\n",
      "starting trading logic\n",
      "[[24688.35      nan      nan      nan]]\n",
      "starting trading logic\n",
      "[[24690.5     nan     nan     nan]]\n",
      "starting trading logic\n",
      "[[24688.74  24688.818       nan       nan]]\n",
      "starting trading logic\n",
      "[[24690.18  24689.366       nan       nan]]\n",
      "starting trading logic\n",
      "[[24690.79  24689.712       nan       nan]]\n",
      "starting trading logic\n",
      "[[24690.18  24690.078       nan       nan]]\n",
      "starting trading logic\n",
      "[[24693.97  24690.772       nan       nan]]\n",
      "starting trading logic\n",
      "[[24693.15  24691.654       nan       nan]]\n",
      "starting trading logic\n",
      "[[24692.98  24692.214       nan       nan]]\n",
      "starting trading logic\n",
      "[[24694.68  24692.992       nan       nan]]\n",
      "starting trading logic\n",
      "[[24693.68  24693.692       nan       nan]]\n",
      "starting trading logic\n",
      "[[24693.88  24693.674       nan       nan]]\n",
      "starting trading logic\n",
      "[[24695.13 24694.07      nan      nan]]\n",
      "starting trading logic\n",
      "[[24695.29  24694.532       nan       nan]]\n",
      "starting trading logic\n",
      "[[24695.66  24694.728       nan       nan]]\n",
      "starting trading logic\n",
      "[[24699.    24695.792       nan       nan]]\n",
      "starting trading logic\n",
      "[[24699.34  24696.884       nan       nan]]\n",
      "starting trading logic\n",
      "[[24699.62       24697.782                 nan 24685.75383957]]\n",
      "starting trading logic\n",
      "[[24702.25       24699.174      24696.59258    24685.92349952]]\n",
      "starting trading logic\n",
      "[[24702.28       24700.498      24696.95874    24686.06655805]]\n",
      "starting trading logic\n",
      "[[24703.79       24701.456      24697.89192    24686.38663139]]\n",
      "starting trading logic\n",
      "[[24702.27       24702.042      24698.0409     24686.74446316]]\n",
      "starting trading logic\n",
      "[[24702.95       24702.708      24698.0409     24687.57186195]]\n",
      "starting trading logic\n",
      "[[24705.7        24703.398      24699.77136    24687.99168672]]\n",
      "starting trading logic\n",
      "[[24706.46      24704.234     24700.24104   24688.4611813]]\n",
      "starting trading logic\n",
      "[[24709.56       24705.388      24702.15684    24688.90648015]]\n",
      "starting trading logic\n",
      "[[24709.25       24706.784      24703.22644    24689.01327686]]\n",
      "starting trading logic\n",
      "[[24708.36       24707.866      24703.22644    24689.61859224]]\n",
      "starting trading logic\n",
      "[[24709.88       24708.702      24703.4242     24690.33450632]]\n",
      "starting trading logic\n",
      "[[24710.27       24709.464      24703.93262    24690.92845087]]\n",
      "starting trading logic\n",
      "[[24710.24       24709.6        24703.93262    24691.96975457]]\n",
      "starting trading logic\n",
      "[[24710.45       24709.84       24704.12026    24693.21773381]]\n",
      "starting trading logic\n",
      "[[24710.41       24710.25       24704.59776    24694.44382636]]\n",
      "starting trading logic\n",
      "[[24710.09      24710.292     24704.65888   24695.9221983]]\n",
      "starting trading logic\n",
      "[[24710.1        24710.258      24704.80022    24697.61627253]]\n",
      "starting trading logic\n",
      "[[24711.93       24710.596      24706.99074    24698.57999614]]\n",
      "starting trading logic\n",
      "[[24711.45       24710.796      24707.12062    24699.72294194]]\n",
      "starting trading logic\n",
      "[[24712.92       24711.298      24707.8394     24700.93036664]]\n",
      "starting trading logic\n",
      "[[24713.68      24712.016     24709.31374   24701.6219243]]\n",
      "starting trading logic\n",
      "[[24713.37       24712.67       24709.32138    24702.53844408]]\n",
      "starting trading logic\n",
      "[[24713.85       24713.054      24709.42644    24703.23236845]]\n",
      "starting trading logic\n",
      "[[24716.         24713.964      24710.75514    24704.32175635]]\n",
      "starting trading logic\n",
      "[[24717.29       24714.838      24711.81212    24705.33915845]]\n",
      "starting trading logic\n",
      "[[24716.92       24715.486      24712.86262    24705.91399991]]\n",
      "starting trading logic\n",
      "[[24717.4        24716.292      24713.22092    24706.44790588]]\n",
      "starting trading logic\n",
      "[[24716.74       24716.87       24713.94672    24706.59950078]]\n",
      "starting trading logic\n",
      "[[24716.81       24717.032      24713.94672    24706.89461633]]\n",
      "starting trading logic\n",
      "[[24715.91       24716.756      24713.94672    24707.53194192]]\n",
      "starting trading logic\n",
      "[[24716.71       24716.714      24714.52736    24707.91388268]]\n",
      "starting trading logic\n",
      "[[24716.69       24716.572      24714.60758    24708.30809855]]\n"
     ]
    }
   ],
   "source": [
    "### Kör denna kod för att skapa en dataframe med train/test data ###\n",
    "###               Gör interupt när tillräckligt finns            ###\n",
    "\n",
    "mom.start()"
   ]
  },
  {
   "cell_type": "code",
   "execution_count": 6,
   "metadata": {},
   "outputs": [
    {
     "name": "stdout",
     "output_type": "stream",
     "text": [
      "[24716.69       24716.572      24714.60758    24708.30809855]\n"
     ]
    }
   ],
   "source": [
    "print(mom.df[['pris','sma_5','fib38','lower_band']].tail(1).values[0])\n",
    "mom.df.to_csv('data.csv')"
   ]
  },
  {
   "attachments": {},
   "cell_type": "markdown",
   "metadata": {},
   "source": [
    "### Hur vet vi y-värdena?"
   ]
  },
  {
   "cell_type": "code",
   "execution_count": null,
   "metadata": {},
   "outputs": [],
   "source": []
  }
 ],
 "metadata": {
  "kernelspec": {
   "display_name": "base",
   "language": "python",
   "name": "python3"
  },
  "language_info": {
   "codemirror_mode": {
    "name": "ipython",
    "version": 3
   },
   "file_extension": ".py",
   "mimetype": "text/x-python",
   "name": "python",
   "nbconvert_exporter": "python",
   "pygments_lexer": "ipython3",
   "version": "3.9.13"
  },
  "orig_nbformat": 4,
  "vscode": {
   "interpreter": {
    "hash": "3d733caf4ffc39d0fbd9a2ba54ef4b7d515956d8048931f8241efe3827fb2d1f"
   }
  }
 },
 "nbformat": 4,
 "nbformat_minor": 2
}
