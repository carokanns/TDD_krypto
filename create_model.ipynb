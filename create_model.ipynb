{
 "cells": [
  {
   "attachments": {},
   "cell_type": "markdown",
   "metadata": {},
   "source": [
    "# Skapa en modell \n",
    "som ger underlag för att köpa eller sälja kryptovaluta"
   ]
  },
  {
   "cell_type": "code",
   "execution_count": 1,
   "metadata": {},
   "outputs": [],
   "source": [
    "import pandas as pd\n",
    "import numpy as np\n",
    "import binance\n",
    "import momentum as mom"
   ]
  },
  {
   "attachments": {},
   "cell_type": "markdown",
   "metadata": {},
   "source": [
    "## Skapa train/test data"
   ]
  },
  {
   "cell_type": "code",
   "execution_count": 5,
   "metadata": {},
   "outputs": [
    {
     "name": "stdout",
     "output_type": "stream",
     "text": [
      "[24840.55       24830.382      24833.84208    24819.38707394]\n",
      "[24839.77       24832.844      24833.84208    24818.32522848]\n",
      "[24839.6        24835.244      24833.84208    24817.96795437]\n"
     ]
    }
   ],
   "source": [
    "### Kör denna kod för att skapa en dataframe med train/test data ###\n",
    "###               Gör interupt när tillräckligt finns            ###\n",
    "# set timer\n",
    "import time\n",
    "start_time = time.time()\n",
    "mom.start()\n",
    "duration = time.time() - start_time"
   ]
  },
  {
   "cell_type": "code",
   "execution_count": 11,
   "metadata": {},
   "outputs": [
    {
     "name": "stdout",
     "output_type": "stream",
     "text": [
      "6.0 21\n",
      "6.0 minutes and 21 seconds\n",
      "                             pris      sma_5      sma_20        fib38  \\\n",
      "2023-02-20 19:01:12.212  24827.98  24826.986  24824.7875  24825.83316   \n",
      "2023-02-20 19:01:13.213  24826.59  24826.996  24824.9275  24825.83316   \n",
      "2023-02-20 19:01:14.211  24827.27  24827.010  24825.0820  24825.83316   \n",
      "2023-02-20 19:01:15.211  24827.46  24827.286  24825.2050  24825.83316   \n",
      "2023-02-20 19:01:16.211  24827.60  24827.380  24825.3500  24825.83316   \n",
      "2023-02-20 19:01:17.213  24828.09  24827.402  24825.6365  24825.90114   \n",
      "2023-02-20 19:01:18.210  24828.21  24827.726  24825.8750  24826.21596   \n",
      "2023-02-20 19:03:32.230  24840.55  24830.382  24826.7390  24833.84208   \n",
      "2023-02-20 19:03:33.229  24839.77  24832.844  24827.5460  24833.84208   \n",
      "2023-02-20 19:03:34.231  24839.60  24835.244  24828.3765  24833.84208   \n",
      "\n",
      "                             fib50        fib62    boll_sma  boll_std  \\\n",
      "2023-02-20 19:01:12.212  24825.170  24824.50684  24824.7875  1.602563   \n",
      "2023-02-20 19:01:13.213  24825.170  24824.50684  24824.9275  1.632853   \n",
      "2023-02-20 19:01:14.211  24825.170  24824.50684  24825.0820  1.703080   \n",
      "2023-02-20 19:01:15.211  24825.170  24824.50684  24825.2050  1.783767   \n",
      "2023-02-20 19:01:16.211  24825.170  24824.50684  24825.3500  1.856924   \n",
      "2023-02-20 19:01:17.213  24825.225  24824.54886  24825.6365  1.812835   \n",
      "2023-02-20 19:01:18.210  24825.600  24824.98404  24825.8750  1.822400   \n",
      "2023-02-20 19:03:32.230  24831.770  24829.69792  24826.7390  3.675963   \n",
      "2023-02-20 19:03:33.229  24831.770  24829.69792  24827.5460  4.610386   \n",
      "2023-02-20 19:03:34.231  24831.770  24829.69792  24828.3765  5.204273   \n",
      "\n",
      "                           upper_band    lower_band b_strategy  \n",
      "2023-02-20 19:01:12.212  24827.992627  24821.582373       hold  \n",
      "2023-02-20 19:01:13.213  24828.193206  24821.661794       hold  \n",
      "2023-02-20 19:01:14.211  24828.488159  24821.675841       hold  \n",
      "2023-02-20 19:01:15.211  24828.772535  24821.637465       hold  \n",
      "2023-02-20 19:01:16.211  24829.063849  24821.636151       hold  \n",
      "2023-02-20 19:01:17.213  24829.262170  24822.010830       hold  \n",
      "2023-02-20 19:01:18.210  24829.519800  24822.230200       hold  \n",
      "2023-02-20 19:03:32.230  24834.090926  24819.387074       sell  \n",
      "2023-02-20 19:03:33.229  24836.766772  24818.325228       hold  \n",
      "2023-02-20 19:03:34.231  24838.785046  24817.967954       hold  \n"
     ]
    }
   ],
   "source": [
    "duration = time.time() - start_time\n",
    "# format duration to minutes and seconds\n",
    "duration = divmod(duration, 60)\n",
    "str_duration = str(duration[0]) + ' minutes and ' + str(int(duration[1])) + ' seconds'\n",
    "print(str_duration )\n",
    "print(mom.df.tail(10))\n",
    "mom.df.to_csv('data.csv')"
   ]
  },
  {
   "attachments": {},
   "cell_type": "markdown",
   "metadata": {},
   "source": [
    "### y-värdena: en plus två tidseneheter framåt i df"
   ]
  },
  {
   "cell_type": "code",
   "execution_count": 58,
   "metadata": {},
   "outputs": [],
   "source": [
    "df=mom.df.copy()\n",
    "# df.index"
   ]
  },
  {
   "cell_type": "code",
   "execution_count": 62,
   "metadata": {},
   "outputs": [
    {
     "name": "stdout",
     "output_type": "stream",
     "text": [
      "hold\n",
      "pris          24818.75\n",
      "sma_5              NaN\n",
      "sma_20             NaN\n",
      "fib38              NaN\n",
      "fib50              NaN\n",
      "fib62              NaN\n",
      "boll_sma           NaN\n",
      "boll_std           NaN\n",
      "upper_band         NaN\n",
      "lower_band         NaN\n",
      "b_strategy        hold\n",
      "m_strategy        sell\n",
      "Name: 2023-02-20 18:53:55.147000, dtype: object\n"
     ]
    }
   ],
   "source": [
    "df['m_strategy'] = ['hold'] * len(df)\n",
    "for i,val in enumerate(df):\n",
    "    print(df.iloc[i]['m_strategy'])\n",
    "    ix = df.index[i]\n",
    "    df.loc[ix,'m_strategy'] = 'sell'\n",
    "    # df['m_strategy'].iloc[i] = 'buy'\n",
    "    print(df.loc[ix])\n",
    "    break"
   ]
  },
  {
   "cell_type": "code",
   "execution_count": null,
   "metadata": {},
   "outputs": [],
   "source": [
    "def get_b_strategy(row):\n",
    "    i = row.name\n",
    "    print(i)\n",
    "    if df['pris'].shift(-1).loc[i] < df['upper_band'].shift(-1).loc[i] and df['pris'].shift(0).loc[i] > df['upper_band'].shift(0).loc[i]:\n",
    "        return 'sell'\n",
    "    elif df['pris'].shift(-1).loc[i] > df['lower_band'].shift(-1).loc[i] and df['pris'].shift(0).loc[i] < df['lower_band'].shift(0).loc[i]:\n",
    "        return 'buy'\n",
    "    else:\n",
    "        return 'hold'\n",
    "\n",
    "\n",
    "    \n",
    "df['b_strategy'] = df.apply(get_b_strategy, axis=1)\n",
    "\n",
    "df['b_strategy'].tail(2)\n",
    "print(df['pris'].shift(1).iloc[-1])\n",
    "df"
   ]
  },
  {
   "cell_type": "code",
   "execution_count": null,
   "metadata": {},
   "outputs": [],
   "source": [
    "client = binance.Client()\n",
    "r = client.get_historical_klines('ETHBTC', client.KLINE_INTERVAL_1MINUTE, '17-Jan-2023', '20-Jan-2023')\n",
    "df = pd.DataFrame(r,columns=['datum', 'open','low','high','close','volume','close_time','quote_asset_volume','number_of_trades','taker_buy_base_asset_volume','taker_buy_quote_asset_volume','ignore'])\n",
    "df = df[['datum','open','high','low','close','volume']]\n",
    "# OHLCV values (Open time, Open, High, Low, Close, Volume, Close time, Quote asset volume, \n",
    "# Number of trades, Taker buy base asset volume, Taker buy quote asset volume, Ignore)\n",
    "df.datum = pd.to_datetime(df.datum, unit='ms')\n",
    "df.set_index('datum', inplace=True)"
   ]
  },
  {
   "cell_type": "code",
   "execution_count": null,
   "metadata": {},
   "outputs": [],
   "source": [
    "df"
   ]
  }
 ],
 "metadata": {
  "kernelspec": {
   "display_name": "base",
   "language": "python",
   "name": "python3"
  },
  "language_info": {
   "codemirror_mode": {
    "name": "ipython",
    "version": 3
   },
   "file_extension": ".py",
   "mimetype": "text/x-python",
   "name": "python",
   "nbconvert_exporter": "python",
   "pygments_lexer": "ipython3",
   "version": "3.9.13"
  },
  "orig_nbformat": 4,
  "vscode": {
   "interpreter": {
    "hash": "3d733caf4ffc39d0fbd9a2ba54ef4b7d515956d8048931f8241efe3827fb2d1f"
   }
  }
 },
 "nbformat": 4,
 "nbformat_minor": 2
}
