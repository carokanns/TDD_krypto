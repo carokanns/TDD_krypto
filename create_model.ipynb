{
 "cells": [
  {
   "attachments": {},
   "cell_type": "markdown",
   "metadata": {},
   "source": [
    "# Skapa en modell \n",
    "som ger underlag för att köpa eller sälja kryptovaluta"
   ]
  },
  {
   "cell_type": "code",
   "execution_count": null,
   "metadata": {},
   "outputs": [],
   "source": [
    "import pandas as pd\n",
    "import numpy as np\n",
    "import momentum as mom"
   ]
  },
  {
   "attachments": {},
   "cell_type": "markdown",
   "metadata": {},
   "source": [
    "## Skapa train/test data"
   ]
  },
  {
   "cell_type": "code",
   "execution_count": null,
   "metadata": {},
   "outputs": [],
   "source": [
    "### Kör denna kod för att skapa en dataframe med train/test data ###\n",
    "###               Gör interupt när tillräckligt finns            ###\n",
    "\n",
    "mom.start()"
   ]
  },
  {
   "cell_type": "code",
   "execution_count": null,
   "metadata": {},
   "outputs": [],
   "source": [
    "print(mom.df.tail(10))\n",
    "mom.df.to_csv('data.csv')"
   ]
  },
  {
   "attachments": {},
   "cell_type": "markdown",
   "metadata": {},
   "source": [
    "### y-värdena: en plus två tidseneheter framåt i df"
   ]
  },
  {
   "cell_type": "code",
   "execution_count": null,
   "metadata": {},
   "outputs": [],
   "source": [
    "df=mom.df\n",
    "# df.index"
   ]
  },
  {
   "cell_type": "code",
   "execution_count": null,
   "metadata": {},
   "outputs": [],
   "source": [
    "def get_b_strategy(row):\n",
    "    i = row.name\n",
    "    print(i)\n",
    "    if df['pris'].shift(-1).loc[i] < df['upper_band'].shift(-1).loc[i] and df['pris'].shift(0).loc[i] > df['upper_band'].shift(0).loc[i]:\n",
    "        return 'sell'\n",
    "    elif df['pris'].shift(-1).loc[i] > df['lower_band'].shift(-1).loc[i] and df['pris'].shift(0).loc[i] < df['lower_band'].shift(0).loc[i]:\n",
    "        return 'buy'\n",
    "    else:\n",
    "        return 'hold'\n",
    "\n",
    "\n",
    "    \n",
    "df['b_strategy'] = df.apply(get_b_strategy, axis=1)\n",
    "\n",
    "df['b_strategy'].tail(2)\n",
    "print(df['pris'].shift(1).iloc[-1])\n",
    "df"
   ]
  }
 ],
 "metadata": {
  "kernelspec": {
   "display_name": "base",
   "language": "python",
   "name": "python3"
  },
  "language_info": {
   "codemirror_mode": {
    "name": "ipython",
    "version": 3
   },
   "file_extension": ".py",
   "mimetype": "text/x-python",
   "name": "python",
   "nbconvert_exporter": "python",
   "pygments_lexer": "ipython3",
   "version": "3.9.13"
  },
  "orig_nbformat": 4,
  "vscode": {
   "interpreter": {
    "hash": "3d733caf4ffc39d0fbd9a2ba54ef4b7d515956d8048931f8241efe3827fb2d1f"
   }
  }
 },
 "nbformat": 4,
 "nbformat_minor": 2
}
